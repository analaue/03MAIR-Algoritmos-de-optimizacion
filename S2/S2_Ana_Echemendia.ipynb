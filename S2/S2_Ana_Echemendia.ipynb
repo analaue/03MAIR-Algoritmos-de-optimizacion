{
  "nbformat": 4,
  "nbformat_minor": 0,
  "metadata": {
    "colab": {
      "name": "S2 - Ana Echemendia.ipynb",
      "version": "0.3.2",
      "provenance": [],
      "collapsed_sections": []
    },
    "kernelspec": {
      "name": "python3",
      "display_name": "Python 3"
    }
  },
  "cells": [
    {
      "metadata": {
        "id": "iXzHGdpIv_IN",
        "colab_type": "text"
      },
      "cell_type": "markdown",
      "source": [
        "# **Elección de grupos de población homogéneos**"
      ]
    },
    {
      "metadata": {
        "id": "yUU7wq_Xv_S8",
        "colab_type": "text"
      },
      "cell_type": "markdown",
      "source": [
        "Antecendentes: Una productora ganadera nos encarga la tarea de seleccionar grupos de\n",
        "terneros para aplicar 3 tratamientos diferentes. Para cada uno de los\n",
        "tratamientos debemos seleccionar 3 grupos de terneros que sean lo mas\n",
        "homogéneos posible en peso para que en los resultados del tratamiento influya\n",
        "lo menos posible el peso del animal. Disponemos de una población de N\n",
        "animales entre machos y hembras"
      ]
    },
    {
      "metadata": {
        "id": "NN1m7BnayyA5",
        "colab_type": "text"
      },
      "cell_type": "markdown",
      "source": [
        "**Diseñar un algoritmo que cumpla con las siguientes especificaciones: **\n",
        "\n",
        "*   Seleccionar 3 grupos de terneros que sean lo mas homogéneos posible en peso\n",
        "*   Se dispone de una población de N animales entre machos y hembras\n",
        "\n",
        "\n",
        "\n",
        "---\n",
        "\n",
        "*Para efectos de este ejercicio se importará un dataset ficticio con los pesos de 84 vacas*"
      ]
    },
    {
      "metadata": {
        "id": "0ESchHOWWeIl",
        "colab_type": "code",
        "colab": {}
      },
      "cell_type": "code",
      "source": [
        ""
      ],
      "execution_count": 0,
      "outputs": []
    },
    {
      "metadata": {
        "id": "zUdQFUdhyyKW",
        "colab_type": "text"
      },
      "cell_type": "markdown",
      "source": [
        "#### ¿Cuantas posibilidades hay sin tener en cuenta las restricciones?"
      ]
    },
    {
      "metadata": {
        "id": "RV9kMcGfz8N6",
        "colab_type": "text"
      },
      "cell_type": "markdown",
      "source": [
        "Sin tomar en cuenta que las agrupaciones tienen que ser homogéneas, se calcula el número de permutaciones con la siguiente fórmula:\n",
        "\n",
        "P (m) = m !\n",
        "\n",
        "La expresión representa las permutaciones de los 84 pesos (m) tomando todos los elementos. Los subgrupos se diferenciaran únicamente por el orden de los elementos."
      ]
    },
    {
      "metadata": {
        "id": "PoKP3RsXg5me",
        "colab_type": "code",
        "outputId": "88b7833a-e9a8-4828-ac93-c502926df99c",
        "colab": {
          "base_uri": "https://localhost:8080/",
          "height": 34
        }
      },
      "cell_type": "code",
      "source": [
        "def factorial(n):\n",
        "    num = 1\n",
        "    while n >= 1:\n",
        "        num = num * n\n",
        "        n = n - 1\n",
        "    return num\n",
        " \n",
        "#Se calcula el factorial de los 84 pesos que hay\n",
        "fact84 = factorial(84)\n",
        " \n",
        "# Para visualizar el resultado:\n",
        "print(fact84)"
      ],
      "execution_count": 0,
      "outputs": [
        {
          "output_type": "stream",
          "text": [
            "3314240134565353266999387579130131288000666286242049487118846032383059131291716864129885722968716753156177920000000000000000000\n"
          ],
          "name": "stdout"
        }
      ]
    },
    {
      "metadata": {
        "id": "DEnHF3lvz8ew",
        "colab_type": "text"
      },
      "cell_type": "markdown",
      "source": [
        " **¿Cual es la estructura de datos que mejor se adapta al problema?**"
      ]
    },
    {
      "metadata": {
        "id": "O-927MuArgSt",
        "colab_type": "text"
      },
      "cell_type": "markdown",
      "source": [
        "Estructura lineal, esto debido a que tenemos una lista de números (pesos) que agrupar según un criterio. Una lista es un conjunto de datos del mismo tipo y cada elemento tiene un único predecesor y sucesor. \n",
        "\n",
        "En este caso se necesita recorrer toda la lista, e ir clasificando cada uno de los valores en 3 subgrupos si es mayor, menor o igual que el valor límite para cada grupo. \n",
        "  \n",
        "\n"
      ]
    },
    {
      "metadata": {
        "id": "r7k0wsIouqkk",
        "colab_type": "text"
      },
      "cell_type": "markdown",
      "source": [
        "**Función objetivo**"
      ]
    },
    {
      "metadata": {
        "id": "IT94NGLKvgky",
        "colab_type": "text"
      },
      "cell_type": "markdown",
      "source": [
        "x1 = valores del grupo A\n",
        "x2 = valores del grupo B\n",
        "x3 = valores del grupo C\n",
        "\n",
        "f(x) = (x1 - 1)^2 - (x2 - 1)^2 - (x3 -1)^2\n",
        "\n",
        "Con las siguentes restricciones tomando el cuenta los valores mínimos y máximos de la lista: 7.93 y 13.612\n",
        "\n",
        "7.93 <= x1 < x2 < x3 <= 13.612\n",
        "\n",
        "En este caso correspondería minimizar, ya que se pide que los grupos sean lo más homogéneos posibles, lo cual corresponde a que tengan la menor diferencia. "
      ]
    },
    {
      "metadata": {
        "id": "k7QAyPJNunnw",
        "colab_type": "text"
      },
      "cell_type": "markdown",
      "source": [
        "**Diseño de algoritmo por fuerza bruta**"
      ]
    },
    {
      "metadata": {
        "id": "G5XmSSIvxXoB",
        "colab_type": "code",
        "colab": {}
      },
      "cell_type": "code",
      "source": [
        "import os\n",
        "import numpy as np\n",
        "import pandas as pd\n",
        "from sklearn import preprocessing\n",
        "import numpy as np\n",
        "from pandas import Series\n",
        "from matplotlib import pyplot"
      ],
      "execution_count": 0,
      "outputs": []
    },
    {
      "metadata": {
        "id": "QpZxh3V7W6po",
        "colab_type": "code",
        "colab": {}
      },
      "cell_type": "code",
      "source": [
        "dfpeso = pd.read_csv('sampleweight.csv')"
      ],
      "execution_count": 0,
      "outputs": []
    },
    {
      "metadata": {
        "id": "BIj6IwyubrR1",
        "colab_type": "code",
        "outputId": "306b2768-91ef-4cc8-8ddf-a716649f3623",
        "colab": {
          "base_uri": "https://localhost:8080/",
          "height": 1105
        }
      },
      "cell_type": "code",
      "source": [
        "dfpeso.head"
      ],
      "execution_count": 0,
      "outputs": [
        {
          "output_type": "execute_result",
          "data": {
            "text/plain": [
              "<bound method NDFrame.head of     Weight  Sex\n",
              "0    8.570    0\n",
              "1    8.490    1\n",
              "2    8.350    1\n",
              "3    8.310    1\n",
              "4    8.160    1\n",
              "5    8.000    0\n",
              "6    8.170    1\n",
              "7    8.510    1\n",
              "8    8.670    0\n",
              "9    8.690    1\n",
              "10   8.810    1\n",
              "11   9.140    1\n",
              "12   9.060    1\n",
              "13  10.040    1\n",
              "14  11.070    0\n",
              "15  11.550    1\n",
              "16  11.400    1\n",
              "17  11.130    0\n",
              "18  11.450    1\n",
              "19  11.770    1\n",
              "20  11.650    1\n",
              "21  12.210    1\n",
              "22  11.270    1\n",
              "23  11.310    1\n",
              "24  11.270    0\n",
              "25  11.400    1\n",
              "26  11.400    1\n",
              "27  11.600    1\n",
              "28  11.860    0\n",
              "29  11.820    1\n",
              "..     ...  ...\n",
              "45  12.850    0\n",
              "46  13.570    1\n",
              "47   8.070    1\n",
              "48   7.930    1\n",
              "49   7.970    1\n",
              "50   8.100    1\n",
              "51   8.100    1\n",
              "52   8.450    1\n",
              "53   8.160    1\n",
              "54   8.290    1\n",
              "55   8.610    1\n",
              "56   8.650    1\n",
              "57   8.910    1\n",
              "58   8.650    1\n",
              "59   8.790    1\n",
              "60   8.880    1\n",
              "61   9.710    1\n",
              "62  10.370    1\n",
              "63  10.970    1\n",
              "64  10.880    1\n",
              "65  10.830    1\n",
              "66  11.010    1\n",
              "67  10.700    0\n",
              "68  10.640    1\n",
              "69  10.590    1\n",
              "70  10.060    1\n",
              "71   9.990    1\n",
              "72  10.008    1\n",
              "73   9.630    0\n",
              "74   9.730    1\n",
              "\n",
              "[75 rows x 2 columns]>"
            ]
          },
          "metadata": {
            "tags": []
          },
          "execution_count": 77
        }
      ]
    },
    {
      "metadata": {
        "id": "fPQY6suEdMVh",
        "colab_type": "code",
        "colab": {}
      },
      "cell_type": "code",
      "source": [
        "peso_list = dfpeso[\"Weight\"].values"
      ],
      "execution_count": 0,
      "outputs": []
    },
    {
      "metadata": {
        "id": "-oPDDDmLBLxn",
        "colab_type": "code",
        "outputId": "4e80bf86-1e46-4525-fd8e-bcb354e115fe",
        "colab": {
          "base_uri": "https://localhost:8080/",
          "height": 170
        }
      },
      "cell_type": "code",
      "source": [
        "print(peso_list)"
      ],
      "execution_count": 0,
      "outputs": [
        {
          "output_type": "stream",
          "text": [
            "[ 8.57   8.49   8.35   8.31   8.16   8.     8.17   8.51   8.67   8.69\n",
            "  8.81   9.14   9.06  10.04  11.07  11.55  11.4   11.13  11.45  11.77\n",
            " 11.65  12.21  11.27  11.31  11.27  11.4   11.4   11.6   11.86  11.82\n",
            " 11.66  11.58  11.54  10.73  11.01  11.    10.7   10.67  10.71  10.85\n",
            " 11.22  11.85  13.78  14.34  14.21  13.87  13.39  13.77  13.78  13.612\n",
            " 14.29  13.62  13.02  12.85  13.57  14.27   8.07   7.93   7.97   8.1\n",
            "  8.1    8.45   8.16   8.29   8.61   8.65   8.91   8.65   8.79   8.88\n",
            "  9.71  10.37  10.97  10.88  10.83  11.01  10.7   10.64  10.59  10.06\n",
            "  9.99  10.008  9.63   9.73 ]\n"
          ],
          "name": "stdout"
        }
      ]
    },
    {
      "metadata": {
        "id": "gVB-bLbiDTdt",
        "colab_type": "code",
        "colab": {}
      },
      "cell_type": "code",
      "source": [
        "peso_sorted = sorted(peso_list)"
      ],
      "execution_count": 0,
      "outputs": []
    },
    {
      "metadata": {
        "id": "9e1TA16dGE4Y",
        "colab_type": "code",
        "outputId": "8553cc52-8b1f-4264-cc7e-bb0c70664816",
        "colab": {
          "base_uri": "https://localhost:8080/",
          "height": 54
        }
      },
      "cell_type": "code",
      "source": [
        "print(peso_sorted)"
      ],
      "execution_count": 0,
      "outputs": [
        {
          "output_type": "stream",
          "text": [
            "[7.93, 7.97, 8.0, 8.07, 8.1, 8.1, 8.16, 8.16, 8.17, 8.29, 8.31, 8.35, 8.45, 8.49, 8.51, 8.57, 8.61, 8.65, 8.65, 8.67, 8.69, 8.79, 8.81, 8.88, 8.91, 9.06, 9.14, 9.63, 9.71, 9.73, 9.99, 10.008, 10.04, 10.06, 10.37, 10.59, 10.64, 10.67, 10.7, 10.7, 10.71, 10.73, 10.83, 10.85, 10.88, 10.97, 11.0, 11.01, 11.01, 11.07, 11.13, 11.22, 11.27, 11.27, 11.31, 11.4, 11.4, 11.4, 11.45, 11.54, 11.55, 11.58, 11.6, 11.65, 11.66, 11.77, 11.82, 11.85, 11.86, 12.21, 12.85, 13.02, 13.39, 13.57, 13.612]\n"
          ],
          "name": "stdout"
        }
      ]
    },
    {
      "metadata": {
        "id": "kRBPjjB2FF0v",
        "colab_type": "code",
        "colab": {}
      },
      "cell_type": "code",
      "source": [
        "# Creación de la función \"grupos\" con 2 argumentos:\n",
        "def grupos(l, n):\n",
        "    # Para el ítem i en un rango que es de longitud 1,\n",
        "    for i in range(0, len(l), n):\n",
        "        # Se crea un rango de índice para l de n elementos:\n",
        "        yield l[i:i+n]"
      ],
      "execution_count": 0,
      "outputs": []
    },
    {
      "metadata": {
        "id": "eje9DHcYRvLp",
        "colab_type": "text"
      },
      "cell_type": "markdown",
      "source": [
        "Complejidad: O(log n), ya que se va reduciendo el tamaño de los datos en cada paso, porque se dividen los datos en 3 subgrupos. "
      ]
    },
    {
      "metadata": {
        "id": "Q45z733JFwE3",
        "colab_type": "code",
        "outputId": "8fe7d759-7dc4-4593-8c16-e054f313aaeb",
        "colab": {
          "base_uri": "https://localhost:8080/",
          "height": 1292
        }
      },
      "cell_type": "code",
      "source": [
        "# De esta forma, con los valores ordenados, se divide en 3 grupos de 28 \n",
        "#elementos cada uno. Sin embargo, esto no garantiza que haya homogeneidad. \n",
        "list(grupos(peso_sorted, 28))"
      ],
      "execution_count": 0,
      "outputs": [
        {
          "output_type": "execute_result",
          "data": {
            "text/plain": [
              "[[7.93,\n",
              "  7.97,\n",
              "  8.0,\n",
              "  8.07,\n",
              "  8.1,\n",
              "  8.1,\n",
              "  8.16,\n",
              "  8.16,\n",
              "  8.17,\n",
              "  8.29,\n",
              "  8.31,\n",
              "  8.35,\n",
              "  8.45,\n",
              "  8.49,\n",
              "  8.51,\n",
              "  8.57,\n",
              "  8.61,\n",
              "  8.65,\n",
              "  8.65,\n",
              "  8.67,\n",
              "  8.69,\n",
              "  8.79,\n",
              "  8.81,\n",
              "  8.88,\n",
              "  8.91,\n",
              "  9.06,\n",
              "  9.14,\n",
              "  9.63],\n",
              " [9.71,\n",
              "  9.73,\n",
              "  9.99,\n",
              "  10.008,\n",
              "  10.04,\n",
              "  10.06,\n",
              "  10.37,\n",
              "  10.59,\n",
              "  10.64,\n",
              "  10.67,\n",
              "  10.7,\n",
              "  10.7,\n",
              "  10.71,\n",
              "  10.73,\n",
              "  10.83,\n",
              "  10.85,\n",
              "  10.88,\n",
              "  10.97,\n",
              "  11.0,\n",
              "  11.01,\n",
              "  11.01,\n",
              "  11.07,\n",
              "  11.13,\n",
              "  11.22,\n",
              "  11.27,\n",
              "  11.27,\n",
              "  11.31,\n",
              "  11.4],\n",
              " [11.4,\n",
              "  11.4,\n",
              "  11.45,\n",
              "  11.54,\n",
              "  11.55,\n",
              "  11.58,\n",
              "  11.6,\n",
              "  11.65,\n",
              "  11.66,\n",
              "  11.77,\n",
              "  11.82,\n",
              "  11.85,\n",
              "  11.86,\n",
              "  12.21,\n",
              "  12.85,\n",
              "  13.02,\n",
              "  13.39,\n",
              "  13.57,\n",
              "  13.612]]"
            ]
          },
          "metadata": {
            "tags": []
          },
          "execution_count": 96
        }
      ]
    },
    {
      "metadata": {
        "id": "PWqZMjDKIklP",
        "colab_type": "text"
      },
      "cell_type": "markdown",
      "source": [
        "**Otro tipo de análsis basado en supuestos**"
      ]
    },
    {
      "metadata": {
        "id": "o1FBU7yNI7KO",
        "colab_type": "text"
      },
      "cell_type": "markdown",
      "source": [
        "Dosificación \n",
        "\n",
        "Al mayor número de la lista se le resta el menor y se divide entre 3 grupos (tratando de basarse un poco en la teoría real de como se dosifica pero basándose en supuestos)\n",
        "\n",
        "(13.6 - 7.93)/3 = 1.89\n",
        "\n",
        "Luego se obtiene el promedio en cada grupo y se multiplica por 1.89 para saber la dosis (nuevamente esto se considera un supuesto)\n",
        "\n",
        "\n",
        "**G1**  7 <= n < 10\n",
        "\n",
        "Se obtiene el promedio y el resultado se multiplica por 1.89 para obtener la dosificación exacta por grupo\n",
        "\n",
        "---\n",
        "\n",
        "**G2**  10 <= n <13\n",
        "\n",
        "---\n",
        "\n",
        "**G3**  13 <= n"
      ]
    },
    {
      "metadata": {
        "id": "O2PKhU3xIpsS",
        "colab_type": "code",
        "outputId": "ce6addeb-8a88-46ab-c239-d0e6c3799ad4",
        "colab": {
          "base_uri": "https://localhost:8080/",
          "height": 1292
        }
      },
      "cell_type": "code",
      "source": [
        "# Se utiliza la misma lista\n",
        "# La complejidad en este caso se podría definir como constante O(1) ya que no \n",
        "#depende del input de \"n\" en este caso los pesos. El tiempo para correr este \n",
        "#algoritmo siempre es el mismo. \n",
        "\n",
        "list = peso_sorted\n",
        "\n",
        "for values in list:\n",
        "    if values < 10:\n",
        "        print('Grupo A')\n",
        "    elif values < 13:\n",
        "        print('Grupo B')\n",
        "    else:\n",
        "        print('Grupo C')"
      ],
      "execution_count": 0,
      "outputs": [
        {
          "output_type": "stream",
          "text": [
            "Grupo A\n",
            "Grupo A\n",
            "Grupo A\n",
            "Grupo A\n",
            "Grupo A\n",
            "Grupo A\n",
            "Grupo A\n",
            "Grupo A\n",
            "Grupo A\n",
            "Grupo A\n",
            "Grupo A\n",
            "Grupo A\n",
            "Grupo A\n",
            "Grupo A\n",
            "Grupo A\n",
            "Grupo A\n",
            "Grupo A\n",
            "Grupo A\n",
            "Grupo A\n",
            "Grupo A\n",
            "Grupo A\n",
            "Grupo A\n",
            "Grupo A\n",
            "Grupo A\n",
            "Grupo A\n",
            "Grupo A\n",
            "Grupo A\n",
            "Grupo A\n",
            "Grupo A\n",
            "Grupo A\n",
            "Grupo A\n",
            "Grupo B\n",
            "Grupo B\n",
            "Grupo B\n",
            "Grupo B\n",
            "Grupo B\n",
            "Grupo B\n",
            "Grupo B\n",
            "Grupo B\n",
            "Grupo B\n",
            "Grupo B\n",
            "Grupo B\n",
            "Grupo B\n",
            "Grupo B\n",
            "Grupo B\n",
            "Grupo B\n",
            "Grupo B\n",
            "Grupo B\n",
            "Grupo B\n",
            "Grupo B\n",
            "Grupo B\n",
            "Grupo B\n",
            "Grupo B\n",
            "Grupo B\n",
            "Grupo B\n",
            "Grupo B\n",
            "Grupo B\n",
            "Grupo B\n",
            "Grupo B\n",
            "Grupo B\n",
            "Grupo B\n",
            "Grupo B\n",
            "Grupo B\n",
            "Grupo B\n",
            "Grupo B\n",
            "Grupo B\n",
            "Grupo B\n",
            "Grupo B\n",
            "Grupo B\n",
            "Grupo B\n",
            "Grupo B\n",
            "Grupo C\n",
            "Grupo C\n",
            "Grupo C\n",
            "Grupo C\n"
          ],
          "name": "stdout"
        }
      ]
    }
  ]
}
