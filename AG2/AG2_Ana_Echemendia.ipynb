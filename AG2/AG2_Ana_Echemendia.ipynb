{
  "nbformat": 4,
  "nbformat_minor": 0,
  "metadata": {
    "colab": {
      "name": "AG2 - Ana Echemendia.ipynb",
      "version": "0.3.2",
      "provenance": [],
      "collapsed_sections": [],
      "include_colab_link": true
    },
    "kernelspec": {
      "name": "python3",
      "display_name": "Python 3"
    }
  },
  "cells": [
    {
      "cell_type": "markdown",
      "metadata": {
        "id": "view-in-github",
        "colab_type": "text"
      },
      "source": [
        "<a href=\"https://colab.research.google.com/github/analaue/03MAIR-Algoritmos-de-optimizacion/blob/master/AG2_Ana_Echemendia.ipynb\" target=\"_parent\"><img src=\"https://colab.research.google.com/assets/colab-badge.svg\" alt=\"Open In Colab\"/></a>"
      ]
    },
    {
      "metadata": {
        "id": "-o-og9y8zxZF",
        "colab_type": "text"
      },
      "cell_type": "markdown",
      "source": [
        "URL: https://github.com/analaue/03MAIR-Algoritmos-de-optimizacion"
      ]
    },
    {
      "metadata": {
        "id": "5TQk8FD60J4h",
        "colab_type": "code",
        "colab": {}
      },
      "cell_type": "code",
      "source": [
        "#Calculo de Tiempos\n",
        "\n",
        "from time import time\n",
        "def calcular_tiempo(f):\n",
        "   \n",
        "    def wrapper(*args, **kwargs):        \n",
        "        inicio = time()       \n",
        "        resultado = f(*args, **kwargs)       \n",
        "        tiempo = float(time() - inicio)     \n",
        "        print(\"\\r\\n Tiempo de ejecución para algoritmo: \"+\"{0:.25f}\".format(tiempo))\n",
        "        return resultado\n",
        "    \n",
        "    return wrapper"
      ],
      "execution_count": 0,
      "outputs": []
    },
    {
      "metadata": {
        "id": "YL7-6dtgz2m1",
        "colab_type": "code",
        "colab": {
          "base_uri": "https://localhost:8080/",
          "height": 54
        },
        "outputId": "d193e5cf-e5b6-4c75-d5ba-be43a22bf5ba"
      },
      "cell_type": "code",
      "source": [
        "import random\n",
        "import math\n",
        "\n",
        "\n",
        "N=100\n",
        "\n",
        "LISTA_2D = [  (random.randrange(1,N*10),random.randrange(1,N*10) )  for _ in range(N)]\n",
        "\n",
        "print(LISTA_2D)"
      ],
      "execution_count": 1,
      "outputs": [
        {
          "output_type": "stream",
          "text": [
            "[(113, 892), (826, 821), (941, 307), (913, 37), (814, 609), (291, 698), (294, 456), (275, 655), (552, 18), (482, 139), (782, 258), (181, 335), (797, 398), (925, 996), (988, 400), (527, 889), (360, 931), (767, 228), (471, 724), (462, 926), (744, 568), (68, 159), (49, 547), (852, 943), (671, 876), (485, 222), (955, 139), (56, 931), (862, 206), (384, 604), (574, 502), (590, 874), (134, 456), (842, 843), (855, 797), (553, 912), (76, 287), (654, 975), (103, 979), (196, 795), (117, 238), (178, 871), (262, 190), (243, 204), (838, 94), (609, 70), (536, 971), (157, 206), (724, 683), (447, 389), (246, 570), (932, 889), (63, 382), (384, 91), (81, 183), (636, 583), (152, 646), (985, 281), (618, 932), (598, 230), (183, 395), (347, 950), (642, 362), (64, 899), (782, 521), (938, 927), (398, 528), (546, 964), (362, 872), (16, 715), (874, 218), (279, 212), (644, 807), (313, 351), (714, 940), (255, 837), (289, 598), (167, 356), (723, 685), (829, 58), (534, 425), (554, 553), (485, 943), (38, 463), (104, 931), (597, 624), (525, 535), (264, 16), (365, 109), (338, 479), (100, 842), (495, 804), (165, 848), (155, 900), (115, 462), (793, 188), (92, 778), (848, 304), (34, 588), (202, 713)]\n"
          ],
          "name": "stdout"
        }
      ]
    },
    {
      "metadata": {
        "id": "ExguPNeUz6Y5",
        "colab_type": "code",
        "colab": {
          "base_uri": "https://localhost:8080/",
          "height": 34
        },
        "outputId": "281b1fd2-6af6-45cb-9716-d936133cc0e0"
      },
      "cell_type": "code",
      "source": [
        "def distancia(A,B):\n",
        "  if type(A) is int or type(A) is float:\n",
        "    return  abs(B-A)\n",
        "  else:\n",
        "    return math.sqrt(sum([   (A[i]-B[i])**2 for i in range(len(A))   ]))\n",
        "  \n",
        "distancia((1,3), (2,5))"
      ],
      "execution_count": 2,
      "outputs": [
        {
          "output_type": "execute_result",
          "data": {
            "text/plain": [
              "2.23606797749979"
            ]
          },
          "metadata": {
            "tags": []
          },
          "execution_count": 2
        }
      ]
    },
    {
      "metadata": {
        "id": "cedoB3qoz6eB",
        "colab_type": "code",
        "colab": {
          "base_uri": "https://localhost:8080/",
          "height": 34
        },
        "outputId": "e752df08-38c0-458e-c1c6-d1404b20213e"
      },
      "cell_type": "code",
      "source": [
        "#Fuerza Bruta\n",
        "\n",
        "def distancia_fuerza_bruta(L):\n",
        "  mejor_distancia = 100000e10\n",
        "  \n",
        "  A,B = (),()\n",
        "  \n",
        "  for i in range(len(L)):\n",
        "    for j in range(i+1, len(L)):\n",
        "      D = distancia(L[i],L[j])\n",
        "      if D < mejor_distancia:\n",
        "                A,B=L[i],L[j]\n",
        "                mejor_distancia = D\n",
        "  return [A,B] \n",
        "\n",
        "distancia_fuerza_bruta(LISTA_2D)"
      ],
      "execution_count": 4,
      "outputs": [
        {
          "output_type": "execute_result",
          "data": {
            "text/plain": [
              "[(724, 683), (723, 685)]"
            ]
          },
          "metadata": {
            "tags": []
          },
          "execution_count": 4
        }
      ]
    },
    {
      "metadata": {
        "id": "mcq_ld_jz6b8",
        "colab_type": "code",
        "colab": {
          "base_uri": "https://localhost:8080/",
          "height": 68
        },
        "outputId": "71d1c53d-6a39-49dd-d60a-8399352837c9"
      },
      "cell_type": "code",
      "source": [
        "def distancia_divide_y_venceras(L):\n",
        "  #Si hay pocos por Fuerza Bruta\n",
        "  if len(L) <10: \n",
        "    return  distancia_fuerza_bruta(L)\n",
        "  \n",
        "  \n",
        "  #Dividir en listas grandes\n",
        "  #pivite =  sum([L[i][0]for i in range(len(L))]) / len(L)\n",
        "  \n",
        "  \n",
        "  LISTA_IZQ = sorted(L, key=lambda x: x[0])[:len(L)//2]\n",
        "  LISTA_DER = sorted(L, key=lambda x: x[0])[len(L)//2:]\n",
        "  \n",
        "  PUNTOS_LISTA_IZQ = distancia_divide_y_venceras(LISTA_IZQ)\n",
        "  PUNTOS_LISTA_DER = distancia_divide_y_venceras(LISTA_DER)\n",
        "  \n",
        "  return distancia_fuerza_bruta(PUNTOS_LISTA_IZQ + PUNTOS_LISTA_DER)\n",
        "  \n",
        "\n",
        "@calcular_tiempo  \n",
        "def LANZA(L):\n",
        "  return distancia_divide_y_venceras(L)\n",
        "  \n",
        "SOL = LANZA(LISTA_2D[:1000])\n",
        "\n",
        "print(SOL)"
      ],
      "execution_count": 7,
      "outputs": [
        {
          "output_type": "stream",
          "text": [
            "\r\n",
            " Tiempo de ejecución para algoritmo: 0.0010583400726318359375000\n",
            "[(536, 971), (546, 964)]\n"
          ],
          "name": "stdout"
        }
      ]
    },
    {
      "metadata": {
        "id": "VytUOwow0O_4",
        "colab_type": "code",
        "colab": {
          "base_uri": "https://localhost:8080/",
          "height": 139
        },
        "outputId": "68642d42-ca6d-494b-b447-c74db2aa15b3"
      },
      "cell_type": "code",
      "source": [
        "TARIFAS = [\n",
        "[0,5,4,3,999,999,999],\n",
        "[999,0,999,2,3,999,11],\n",
        "[999,999, 0,1,999,4,10],\n",
        "[999,999,999, 0,5,6,9],\n",
        "[999,999, 999,999,0,999,4],\n",
        "[999,999, 999,999,999,0,3],\n",
        "[999,999,999,999,999,999,0]\n",
        "]\n",
        "\n",
        "#Paseo por el rio\n",
        "def Precios(TARIFAS):\n",
        "  N = len(TARIFAS[0])\n",
        "  \n",
        "  PRECIOS = [ [9999]*N for i in [9999]*N ]\n",
        "  RUTAS    = [ [\"\"]*N for i in [9999]*N ]\n",
        "  \n",
        "\n",
        "  \n",
        "  for i in range(N-1):\n",
        "    for j in range(i+1,N):\n",
        "      MIN = TARIFAS[i][j]\n",
        "      RUTAS[i][j] = i\n",
        "      \n",
        "      for k in range(i,j):\n",
        "        if PRECIOS[i][k]+ TARIFAS[k][j] < MIN:\n",
        "          MIN = min( MIN , PRECIOS[i][k]+ TARIFAS[k][j] )\n",
        "          RUTAS[i][j] = k\n",
        "      PRECIOS[i][j] = MIN\n",
        "      \n",
        "  return PRECIOS, RUTAS\n",
        "\n",
        "  \n",
        "PRECIOS, RUTAS = Precios(TARIFAS)\n",
        "\n",
        "print(PRECIOS)\n",
        "\n",
        "print()\n",
        "\n",
        "print(RUTAS)\n",
        "\n",
        "def calcular_ruta(RUTAS, desde, hasta):\n",
        "  if desde == hasta:\n",
        "    #print(\"Ir a :\" + str(desde))\n",
        "    return desde \n",
        "  else:\n",
        "    return str(calcular_ruta(RUTAS, desde, RUTAS[desde][hasta])) +  ',' + str(RUTAS[desde][hasta]) \n",
        "\n",
        "print(\"\\nLa ruta es:\")  \n",
        "calcular_ruta(RUTAS, 0,6)"
      ],
      "execution_count": 8,
      "outputs": [
        {
          "output_type": "stream",
          "text": [
            "[[9999, 5, 4, 3, 8, 8, 11], [9999, 9999, 999, 2, 3, 8, 7], [9999, 9999, 9999, 1, 6, 4, 7], [9999, 9999, 9999, 9999, 5, 6, 9], [9999, 9999, 9999, 9999, 9999, 999, 4], [9999, 9999, 9999, 9999, 9999, 9999, 3], [9999, 9999, 9999, 9999, 9999, 9999, 9999]]\n",
            "\n",
            "[['', 0, 0, 0, 1, 2, 5], ['', '', 1, 1, 1, 3, 4], ['', '', '', 2, 3, 2, 5], ['', '', '', '', 3, 3, 3], ['', '', '', '', '', 4, 4], ['', '', '', '', '', '', 5], ['', '', '', '', '', '', '']]\n",
            "\n",
            "La ruta es:\n"
          ],
          "name": "stdout"
        },
        {
          "output_type": "execute_result",
          "data": {
            "text/plain": [
              "'0,0,2,5'"
            ]
          },
          "metadata": {
            "tags": []
          },
          "execution_count": 8
        }
      ]
    }
  ]
}
